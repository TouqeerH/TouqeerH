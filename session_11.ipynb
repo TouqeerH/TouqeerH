{
  "nbformat": 4,
  "nbformat_minor": 0,
  "metadata": {
    "colab": {
      "provenance": [],
      "toc_visible": true,
      "mount_file_id": "1A4M3_IicSX1HEgy6lKzd973OQoQ1Gjvo",
      "authorship_tag": "ABX9TyMb99jPUk0MoLzmGKf59HXJ",
      "include_colab_link": true
    },
    "kernelspec": {
      "name": "python3",
      "display_name": "Python 3"
    },
    "language_info": {
      "name": "python"
    },
    "accelerator": "TPU",
    "gpuClass": "standard"
  },
  "cells": [
    {
      "cell_type": "markdown",
      "metadata": {
        "id": "view-in-github",
        "colab_type": "text"
      },
      "source": [
        "<a href=\"https://colab.research.google.com/github/TouqeerH/TouqeerH/blob/main/session_11.ipynb\" target=\"_parent\"><img src=\"https://colab.research.google.com/assets/colab-badge.svg\" alt=\"Open In Colab\"/></a>"
      ]
    },
    {
      "cell_type": "code",
      "execution_count": 3,
      "metadata": {
        "colab": {
          "base_uri": "https://localhost:8080/"
        },
        "id": "ZII8TEZhtLTb",
        "outputId": "48e5b939-c9fe-4261-d226-120da960ec91"
      },
      "outputs": [
        {
          "output_type": "stream",
          "name": "stdout",
          "text": [
            "test\n"
          ]
        }
      ],
      "source": [
        "print(\"test\")"
      ]
    },
    {
      "cell_type": "markdown",
      "source": [
        "## OOP Continue"
      ],
      "metadata": {
        "id": "IS-cTyt0uTpt"
      }
    },
    {
      "cell_type": "code",
      "source": [
        "input('Test')"
      ],
      "metadata": {
        "id": "GdIgc5HBtWh6",
        "colab": {
          "base_uri": "https://localhost:8080/",
          "height": 53
        },
        "outputId": "76003205-6c0f-4b78-93f7-9988491e1398"
      },
      "execution_count": 4,
      "outputs": [
        {
          "name": "stdout",
          "output_type": "stream",
          "text": [
            "Testas\n"
          ]
        },
        {
          "output_type": "execute_result",
          "data": {
            "text/plain": [
              "'as'"
            ],
            "application/vnd.google.colaboratory.intrinsic+json": {
              "type": "string"
            }
          },
          "metadata": {},
          "execution_count": 4
        }
      ]
    },
    {
      "cell_type": "code",
      "source": [
        "class Car():\n",
        "  color = 'green'\n",
        "  def __init__(self, color):\n",
        "    self.color = color\n",
        "\n",
        "  def getColor(self):\n",
        "    return self.color\n",
        "  \n",
        "  def setColor(self, color):\n",
        "    self.color = color\n",
        "    return color\n",
        "\n",
        "\n",
        "        \n"
      ],
      "metadata": {
        "id": "2IAZJfQ2w0aL"
      },
      "execution_count": 20,
      "outputs": []
    },
    {
      "cell_type": "code",
      "source": [
        "car1 = Car('black')"
      ],
      "metadata": {
        "id": "fXnD0xRjw1gi"
      },
      "execution_count": 22,
      "outputs": []
    },
    {
      "cell_type": "code",
      "source": [
        "car1.getColor()"
      ],
      "metadata": {
        "colab": {
          "base_uri": "https://localhost:8080/",
          "height": 35
        },
        "id": "7JiBXV-1w16n",
        "outputId": "d880dc17-929e-424d-af56-1b9b2790e79d"
      },
      "execution_count": 23,
      "outputs": [
        {
          "output_type": "execute_result",
          "data": {
            "text/plain": [
              "'black'"
            ],
            "application/vnd.google.colaboratory.intrinsic+json": {
              "type": "string"
            }
          },
          "metadata": {},
          "execution_count": 23
        }
      ]
    },
    {
      "cell_type": "code",
      "source": [
        "car1.setColor('Blue')"
      ],
      "metadata": {
        "colab": {
          "base_uri": "https://localhost:8080/",
          "height": 35
        },
        "id": "MuzEjthpykFy",
        "outputId": "2834002f-2060-4347-fd94-002ae5036430"
      },
      "execution_count": 25,
      "outputs": [
        {
          "output_type": "execute_result",
          "data": {
            "text/plain": [
              "'Blue'"
            ],
            "application/vnd.google.colaboratory.intrinsic+json": {
              "type": "string"
            }
          },
          "metadata": {},
          "execution_count": 25
        }
      ]
    },
    {
      "cell_type": "code",
      "source": [],
      "metadata": {
        "id": "f_d0R6G0zdSD"
      },
      "execution_count": null,
      "outputs": []
    }
  ]
}